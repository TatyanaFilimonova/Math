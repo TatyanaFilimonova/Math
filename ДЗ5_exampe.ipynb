{
 "cells": [
  {
   "cell_type": "code",
   "execution_count": null,
   "metadata": {
    "id": "EZcMBhj8hDvv"
   },
   "outputs": [],
   "source": [
    "from sympy import *\n",
    "import numpy as np\n",
    "import matplotlib.pyplot as plt\n",
    "\n",
    "x = symbols('x')"
   ]
  },
  {
   "cell_type": "markdown",
   "metadata": {
    "id": "ENv_yyGqgeYa"
   },
   "source": [
    "# Завдання 1\n",
    "\n",
    "Виконай диференціювання функції та знайди значення похідних $у$ точках $x=1$ і $x=−\\frac{1}{2}$. Розв’яжи програмно та аналітично."
   ]
  },
  {
   "cell_type": "markdown",
   "metadata": {
    "id": "WGdwD7bLgi50"
   },
   "source": [
    "## Завдання 1.1\n",
    "\n",
    "$$\n",
    "f(x) = \\frac{x^3}{3} + \\frac{x^2}{2} - 2x\n",
    "$$\n",
    "\n",
    "ОДЗ функції:\n",
    "$$\n",
    "x \\in (-\\infty; +\\infty)\n",
    "$$\n",
    "\n",
    "Визначення похідної:\n",
    "\n",
    "$$\n",
    "f'(x) = (\\frac{x^3}{3} + \\frac{x^2}{2} - 2x)' = \\frac{1}{3} \\cdot 3x^2 + \\frac{1}{2} \\cdot 2x - 2 = x^2 + x - 2\n",
    "$$\n",
    "\n",
    "$$\n",
    "f'(1) = 0\n",
    "$$\n",
    "\n",
    "$$\n",
    "f'(-\\frac{1}{2}) = -2\\frac{1}{4}\n",
    "$$"
   ]
  },
  {
   "cell_type": "code",
   "execution_count": null,
   "metadata": {
    "colab": {
     "base_uri": "https://localhost:8080/"
    },
    "id": "NUcNx37bhKRk",
    "outputId": "6179dbba-2288-43d9-dafb-64363d8615b0"
   },
   "outputs": [
    {
     "name": "stdout",
     "output_type": "stream",
     "text": [
      "x**2 + x - 2\n",
      "0\n",
      "-2.25\n"
     ]
    }
   ],
   "source": [
    "y = (x ** 3) / 3 + (x ** 2) / 2 - 2 * x\n",
    "yprime = y.diff(x)\n",
    "\n",
    "print(yprime)\n",
    "print(lambdify(x, yprime)(1))\n",
    "print(lambdify(x, yprime)(-0.5))"
   ]
  },
  {
   "cell_type": "markdown",
   "metadata": {
    "id": "ihfFV30siJeI"
   },
   "source": [
    "## Завдання 1.2\n",
    "\n",
    "$$\n",
    "f(x) = \\sqrt{x^2 + 1}\n",
    "$$\n",
    "\n",
    "ОДЗ функції:\n",
    "\n",
    "$$\n",
    "x^2 + 1 \\geq 0\n",
    "$$\n",
    "\n",
    "$$\n",
    "x^2 \\geq -1\n",
    "$$\n",
    "\n",
    "$$\n",
    "x \\in (-\\infty; +\\infty)\n",
    "$$\n",
    "\n",
    "Визначення похідної:\n",
    "\n",
    "$$\n",
    "f'(x) = (\\sqrt{x^2 + 1})' = ((x^2 + 1)^{\\frac{1}{2}})' = \\frac{1}{2}\\cdot (x^2 + 1)^{-\\frac{1}{2}} \\cdot (x^2 + 1)' = \\frac{2x}{2\\sqrt{x^2 + 1}} = \\frac{x}{\\sqrt{x^2 + 1}}\n",
    "$$\n",
    "\n",
    "$$\n",
    "f'(1) = \\frac{1}{\\sqrt{2}}\n",
    "$$\n",
    "\n",
    "$$\n",
    "f'(-\\frac{1}{2}) = -\\frac{1}{2\\sqrt{\\frac{5}{4}}} = -\\frac{1}{\\sqrt{5}}\n",
    "$$"
   ]
  },
  {
   "cell_type": "code",
   "execution_count": null,
   "metadata": {
    "colab": {
     "base_uri": "https://localhost:8080/"
    },
    "id": "bC6CGHwNianE",
    "outputId": "f9f84c78-dfbc-41a6-a56d-8debbf705521"
   },
   "outputs": [
    {
     "name": "stdout",
     "output_type": "stream",
     "text": [
      "1.0*x/(x**2 + 1)**0.5\n",
      "0.7071067811865476\n",
      "-0.4472135954999579\n"
     ]
    }
   ],
   "source": [
    "y = (x ** 2 + 1) ** 0.5\n",
    "yprime = y.diff(x)\n",
    "\n",
    "print(yprime)\n",
    "print(lambdify(x, yprime)(1))\n",
    "print(lambdify(x, yprime)(-0.5))"
   ]
  },
  {
   "cell_type": "markdown",
   "metadata": {
    "id": "Nbwy__7pi0Si"
   },
   "source": [
    "## Завдання 1.3\n",
    "\n",
    "$$\n",
    "f(x) = \\frac{1}{\\sqrt{x^2 + 1}}\n",
    "$$\n",
    "\n",
    "ОДЗ функції:\n",
    "\n",
    "| $\\sqrt{x^2 + 1} \\neq 0$ | $x^2 + 1 \\geq 0$ |\n",
    "| :---: | :---: |\n",
    "| $x^2 + 1 \\neq 0$ | $x^2 \\geq -1$ |\n",
    "| $x^2 \\neq -1$ | $x \\in (-\\infty; +\\infty)$ |\n",
    "| $x \\in (-\\infty; +\\infty)$ | |\n",
    "\n",
    "$$\n",
    "x \\in (-\\infty; +\\infty)\n",
    "$$\n",
    "\n",
    "Визначення похідної:\n",
    "\n",
    "$$\n",
    "f'(x) = (\\frac{1}{\\sqrt{x^2 + 1}})' = ((x^2 + 1)^{-\\frac{1}{2}})' = -\\frac{1}{2} \\cdot (x^2 + 1)^{-\\frac{3}{2}} \\cdot (x^2 + 1)' = - \\frac{2x}{2\\sqrt{(x^2 + 1)^3}} = - \\frac{x}{\\sqrt{(x^2 + 1)^3}}\n",
    "$$\n",
    "\n",
    "$$\n",
    "f'(1) = -\\frac{1}{2\\sqrt{2}}\n",
    "$$\n",
    "\n",
    "$$\n",
    "f'(-\\frac{1}{2}) = \\frac{1}{2\\sqrt{\\frac{5}{4}^3}} = \\frac{4}{5\\sqrt{5}}\n",
    "$$"
   ]
  },
  {
   "cell_type": "code",
   "execution_count": null,
   "metadata": {
    "colab": {
     "base_uri": "https://localhost:8080/"
    },
    "id": "P4QXG60Ji65I",
    "outputId": "1ff35665-b365-4fdb-9694-08b89d077d49"
   },
   "outputs": [
    {
     "name": "stdout",
     "output_type": "stream",
     "text": [
      "-1.0*x/(x**2 + 1)**1.5\n",
      "-0.3535533905932738\n",
      "0.35777087639996635\n"
     ]
    }
   ],
   "source": [
    "y = 1 / ((x ** 2 + 1) ** 0.5)\n",
    "yprime = y.diff(x)\n",
    "\n",
    "print(yprime)\n",
    "print(lambdify(x, yprime)(1))\n",
    "print(lambdify(x, yprime)(-0.5))"
   ]
  },
  {
   "cell_type": "markdown",
   "metadata": {
    "id": "NQ16Rn36jMnd"
   },
   "source": [
    "# Завдання 2\n",
    "\n",
    "Виконай диференціювання функції та знайди точку максимуму. Візуалізуй функцію, її похідну та точку максимуму. Розв’яжи лише програмно.\n",
    "\n",
    "$$\n",
    "y = -3x^2 + 30x\n",
    "$$"
   ]
  },
  {
   "cell_type": "code",
   "execution_count": null,
   "metadata": {
    "colab": {
     "base_uri": "https://localhost:8080/",
     "height": 446
    },
    "id": "OAdynL4-jx50",
    "outputId": "cf1ef598-479b-4852-e417-3b4dfabd2735"
   },
   "outputs": [
    {
     "name": "stdout",
     "output_type": "stream",
     "text": [
      "Похідна: 30 - 6*x\n",
      "Точка екстремуму: (5, 75)\n"
     ]
    },
    {
     "data": {
      "image/png": "[encoded data removed]",
      "text/plain": [
       "<Figure size 640x480 with 1 Axes>"
      ]
     },
     "metadata": {},
     "output_type": "display_data"
    }
   ],
   "source": [
    "# спочатку диференцюємо функцію\n",
    "\n",
    "y = -3 * x ** 2 + 30 * x\n",
    "yprime = y.diff(x)\n",
    "\n",
    "print(f\"Похідна: {yprime}\")\n",
    "\n",
    "# знайдемо точки максимуму\n",
    "# це точки, де значення похідної дорівнює 0\n",
    "# так як графік похідної - лінійна функція, то вона перетне вісь абсцис лише один раз, а тому в нас буде єдина точка екстремуму\n",
    "# чому це буде саме точка максимуму? тому що в нас парна функція, гілки якої дивляться вниз (бо коефіцієнт при x^2 відʼємний)\n",
    "\n",
    "x_max = solve(yprime)[0]\n",
    "y_max = lambdify(x, y)(x_max)\n",
    "\n",
    "print(f\"Точка екстремуму: ({x_max}, {y_max})\")\n",
    "\n",
    "# підготуємо площину\n",
    "\n",
    "fig, ax = plt.subplots()\n",
    "ax.spines[[\"left\", \"bottom\"]].set_position((\"data\", 0))\n",
    "ax.spines[[\"top\", \"right\"]].set_visible(False)\n",
    "ax.plot(1, 0, \">k\", transform=ax.get_yaxis_transform(), clip_on=False)\n",
    "ax.plot(0, 1, \"^k\", transform=ax.get_xaxis_transform(), clip_on=False)\n",
    "ax.grid(True, linestyle='-.')\n",
    "\n",
    "# тепер візуалізуємо функцію, її похідну і точку максимуму на одному графіку\n",
    "\n",
    "x_var = []\n",
    "y_solution = []\n",
    "yprime_solution = []\n",
    "\n",
    "for i in range(1000):\n",
    "    x_i = (i - 100) * 0.01\n",
    "    x_var.append(x_i)\n",
    "    y_solution.append(y.subs(x, x_i))\n",
    "    yprime_solution.append(yprime.subs(x, x_i))\n",
    "\n",
    "ax.plot(x_var, y_solution, label=\"y\")\n",
    "ax.plot(x_var, yprime_solution, label=\"y'\")\n",
    "ax.plot(x_max, y_max, 'go', label=\"Точка максимуму\")\n",
    "\n",
    "plt.legend()\n",
    "plt.show()\n"
   ]
  }
 ],
 "metadata": {
  "colab": {
   "provenance": []
  },
  "kernelspec": {
   "display_name": "Python 3 (ipykernel)",
   "language": "python",
   "name": "python3"
  },
  "language_info": {
   "codemirror_mode": {
    "name": "ipython",
    "version": 3
   },
   "file_extension": ".py",
   "mimetype": "text/x-python",
   "name": "python",
   "nbconvert_exporter": "python",
   "pygments_lexer": "ipython3",
   "version": "3.9.2"
  }
 },
 "nbformat": 4,
 "nbformat_minor": 4
}
