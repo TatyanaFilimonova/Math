{
 "cells": [
  {
   "cell_type": "markdown",
   "metadata": {
    "id": "7Nv00Y9KN7Il"
   },
   "source": [
    "Через інтернет ти отримав два повідомлення, але повідомлення рідко доходять неушкодженими, й цей раз не став винятком.\n",
    "\n",
    "Але тобі пощастило! Пошкоджено всього по 1 біту у кожному повідомленні, при цьому вони захищенні кодом Хемінга.\n",
    "Завдання:\n",
    "- Напиши функцію для пошуку помилки\n",
    "- Напиши функцію для її виправлення.\n",
    "- Прибери перевірочні біти.\n",
    "- Прочитай, що тобі було надіслано.\n",
    "- *Якщо ти хочеш більше практики, можеш реалізувати функцію кодування повідомлення, проте це завдання не оцінюється.\n",
    "\n",
    "Примітка: Перевірочні біти знаходяться на позиціях, що відповідають ступенням двійки та нульовій. Повідомлення в ascii кодуванні. Біти відсортовані зліва направо(формат \"little\")"
   ]
  },
  {
   "cell_type": "code",
   "execution_count": null,
   "metadata": {
    "id": "C6kbnlxPmKUr"
   },
   "outputs": [],
   "source": [
    "import numpy as np\n",
    "from functools import reduce\n",
    "\n",
    "def find_error(bits):\n",
    "    error_idx = reduce(lambda x, y: x ^ y, [i for i, bit in enumerate(bits) if bit == '1'])\n",
    "    return error_idx\n",
    "\n",
    "def fix_error(bits, error_idx):\n",
    "    bits = list(bits)\n",
    "    bits[error_idx] = '0' if bits[error_idx] == '1' else '1'\n",
    "    return ''.join(bits)\n",
    "\n",
    "def remove_parity_bits(bits):\n",
    "    data_bits = []\n",
    "    for i, bit in enumerate(bits):\n",
    "      if i & (i - 1) != 0:\n",
    "        data_bits.append(bit)\n",
    "    return ''.join(data_bits)\n",
    "\n",
    "\n",
    "def text_from_bits(bits, encoding='ascii'):\n",
    "    n = int(bits, 2)\n",
    "    return n.to_bytes((n.bit_length() + 7) // 8, \"little\").decode(encoding) or \"\\0\""
   ]
  },
  {
   "cell_type": "code",
   "execution_count": null,
   "metadata": {
    "id": "uxakOGHZlAcN"
   },
   "outputs": [],
   "source": [
    "message1 = '010011111010001110010101111001001100000011100100110010101110110001101111001000000111010001101111011011100010000001110011001001111011101000110100100100000011101000111010101000010001000010110001001101111011010100010000001100100011011010110111101000111'\n",
    "message2 = '10101111001000110100100110000101111000000100000011101000111100000110010101101110001000000110100101110101011101000110111001010110100101111011110010110110000101110011101000010111100101111001110100111001101110000011101000111010001101000'"
   ]
  },
  {
   "cell_type": "code",
   "execution_count": null,
   "metadata": {
    "colab": {
     "base_uri": "https://localhost:8080/"
    },
    "id": "TERDRhlYiTYb",
    "outputId": "e805f4f6-41c7-43cb-c99c-bad84bc9cd29"
   },
   "outputs": [
    {
     "name": "stdout",
     "output_type": "stream",
     "text": [
      "Corrected Message 1: Good job!But it's not over yet\n",
      "Corrected Message 2: https://t.ly/Vltui next part\n"
     ]
    }
   ],
   "source": [
    "error_idx_1 = find_error(message1)\n",
    "corrected_message1 = fix_error(message1, error_idx_1)\n",
    "\n",
    "error_idx_2 = find_error(message2)\n",
    "corrected_message2 = fix_error(message2, error_idx_2)\n",
    "\n",
    "corrected_text1 = text_from_bits(remove_parity_bits(corrected_message1))\n",
    "corrected_text2 = text_from_bits(remove_parity_bits(corrected_message2))\n",
    "\n",
    "print(\"Corrected Message 1:\", corrected_text1)\n",
    "print(\"Corrected Message 2:\", corrected_text2)"
   ]
  }
 ],
 "metadata": {
  "colab": {
   "provenance": []
  },
  "kernelspec": {
   "display_name": "Python 3 (ipykernel)",
   "language": "python",
   "name": "python3"
  },
  "language_info": {
   "codemirror_mode": {
    "name": "ipython",
    "version": 3
   },
   "file_extension": ".py",
   "mimetype": "text/x-python",
   "name": "python",
   "nbconvert_exporter": "python",
   "pygments_lexer": "ipython3",
   "version": "3.9.2"
  }
 },
 "nbformat": 4,
 "nbformat_minor": 4
}
