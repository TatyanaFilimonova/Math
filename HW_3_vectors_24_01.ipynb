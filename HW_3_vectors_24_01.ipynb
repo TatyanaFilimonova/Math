{
  "nbformat": 4,
  "nbformat_minor": 0,
  "metadata": {
    "colab": {
      "provenance": []
    },
    "kernelspec": {
      "name": "python3",
      "display_name": "Python 3"
    },
    "language_info": {
      "name": "python"
    }
  },
  "cells": [
    {
      "cell_type": "markdown",
      "source": [
        "\n",
        "\n",
        "Дано 4 точки: $M_0(0, 0, 0), M_1(1, \\frac{1}{3}, 0), M_2(0, 2, \\frac{1}{4}), M_3(\\frac{1}{2}, \\frac{1}{2}, 1)$.\n",
        "\n",
        "Також дано 3 вектори, які задають паралелепіпед:\n",
        "- $\\overline{a}=\\overline{M_0M_1}$\n",
        "- $\\overline{b}=\\overline{M_0M_2}$\n",
        "- $\\overline{c}=\\overline{M_0M_3}$\n",
        "\n",
        "Задай вектори через задані точки у numpy.  \n",
        "Порахуй об'єм, площу та кути між гранями паралелепіпеда.\n",
        "Візуалізуй в 3d вершини паралелепіпеда.\n",
        "\n"
      ],
      "metadata": {
        "id": "hcaEinFBN22V"
      }
    },
    {
      "cell_type": "code",
      "source": [
        "import plotly.graph_objects as go\n",
        "import pandas as pd\n",
        "import numpy as np"
      ],
      "metadata": {
        "id": "ipNXu47YnXof"
      },
      "execution_count": null,
      "outputs": []
    },
    {
      "cell_type": "code",
      "execution_count": null,
      "metadata": {
        "id": "vC3j5SYCNnbz"
      },
      "outputs": [],
      "source": [
        "m0 = np.array((0, 0, 0))\n",
        "m1 = np.array((1, 1/3, 0))\n",
        "m2 = np.array((0, 2, 1/4))\n",
        "m3 = np.array((1/2, 1/2, 1))\n",
        "\n",
        "# Знаходимо інші 4 точки вершин паралелепіпеда, кожна з яких представлена сумою вихідної точки та різниць між іншими вершинами паралелепіпеда.\n",
        "m4 = m0 + (m1 - m0) + (m2 - m0)\n",
        "m5 = m0 + (m2 - m0) + (m3 - m0)\n",
        "m6 = m0 + (m1 - m0) + (m3 - m0)\n",
        "m7 = m0 + (m1 - m0) + (m2 - m0) + (m3 - m0)"
      ]
    },
    {
      "cell_type": "code",
      "source": [
        "# Задай вектори через задані точки у numpy\n",
        "a = np.array([m0, m1])\n",
        "b = np.array([m0, m2])\n",
        "c = np.array([m0, m3])"
      ],
      "metadata": {
        "id": "GkZBhNO9xzN1"
      },
      "execution_count": null,
      "outputs": []
    },
    {
      "cell_type": "code",
      "source": [
        "# Порахуй об'єм, площу та кути між гранями паралелепіпеда.\n",
        "# Об'єм паралелепіпеда дорівнює модулю векторного добутку векторів, що утворюють його сторони\n",
        "volume = np.abs(np.dot(np.cross(b[1] - b[0], c[1] - c[0]), a[1] - a[0]))\n",
        "print(f\"Об'єм: {volume}\")"
      ],
      "metadata": {
        "id": "pA0icEE4qZ2X",
        "colab": {
          "base_uri": "https://localhost:8080/"
        },
        "outputId": "7dbc1798-7cd8-4e3d-df69-af470f14c459"
      },
      "execution_count": null,
      "outputs": [
        {
          "output_type": "stream",
          "name": "stdout",
          "text": [
            "Об'єм: 1.9166666666666667\n"
          ]
        }
      ]
    },
    {
      "cell_type": "code",
      "source": [
        "# Площа паралелепіпеда - це сума площ всіх його поверхонь\n",
        "# Обчислення площі поверхні паралелепіпеда, що визначена векторами a, b\n",
        "S_ab = np.linalg.norm(np.cross(a[1] - a[0], b[1] - b[0]))\n",
        "# Обчислення площі поверхні паралелепіпеда, що визначена векторами a, c\n",
        "S_ac = np.linalg.norm(np.cross(a[1] - a[0], c[1] - c[0]))\n",
        "# Обчислення площі поверхні паралелепіпеда, що визначена векторами b, c\n",
        "S_bc = np.linalg.norm(np.cross(b[1] - b[0], c[1] - c[0]))\n",
        "# Загальна площа паралелепіпеда\n",
        "square = 2 * (S_ab + S_ac + S_bc)\n",
        "print(f\"Площа: {square}\")"
      ],
      "metadata": {
        "id": "XT06HSttrrui",
        "colab": {
          "base_uri": "https://localhost:8080/"
        },
        "outputId": "0d6a60f2-1acc-42c2-eb47-19bb94860df3"
      },
      "execution_count": null,
      "outputs": [
        {
          "output_type": "stream",
          "name": "stdout",
          "text": [
            "Площа: 10.50300259735527\n"
          ]
        }
      ]
    },
    {
      "cell_type": "code",
      "source": [
        "# Обчислення кутів між гранями\n",
        "angle_ab = np.degrees(np.arccos(np.dot(b[1] - b[0], a[1] - a[0]) / (np.linalg.norm(b[1] - b[0]) * np.linalg.norm(a[1] - a[0]))))\n",
        "angle_bc = np.degrees(np.arccos(np.dot(c[1] - c[0], b[1] - b[0]) / (np.linalg.norm(c[1] - c[0]) * np.linalg.norm(b[1] - b[0]))))\n",
        "angle_ac = np.degrees(np.arccos(np.dot(c[1] - c[0], a[1] - a[0]) / (np.linalg.norm(c[1] - c[0]) * np.linalg.norm(a[1] - a[0]))))\n",
        "print(f'Кут між a та b: {angle_ab}')\n",
        "print(f'Кут між b та c: {angle_bc}')\n",
        "print(f'Кут між a та c: {angle_ac}')"
      ],
      "metadata": {
        "id": "V8R3QA7PyypD",
        "colab": {
          "base_uri": "https://localhost:8080/"
        },
        "outputId": "04131f0c-2f55-4f52-9bb6-4f77d15dc4e2"
      },
      "execution_count": null,
      "outputs": [
        {
          "output_type": "stream",
          "name": "stdout",
          "text": [
            "Кут між a та b: 71.71246981426138\n",
            "Кут між b та c: 59.57768271314148\n",
            "Кут між a та c: 58.90906964232697\n"
          ]
        }
      ]
    },
    {
      "cell_type": "code",
      "source": [
        "# Отримуємо всі точки вершин паралелепіпеда\n",
        "vertices = np.array([m0, m1, m2, m3, m4, m5, m6, m7])\n",
        "\n",
        "# Візуалізація вершин та ребер паралелепіпеда в 3D\n",
        "fig = go.Figure(data=[\n",
        "    go.Scatter3d(x=vertices[:, 0],\n",
        "                 y=vertices[:, 1],\n",
        "                 z=vertices[:, 2],\n",
        "                 mode='markers+text',\n",
        "                 marker=dict(size=6),\n",
        "                 text=['m0', 'm1', 'm2', 'm3', 'm4', 'm5', 'm6', 'm7'],\n",
        "                 textposition='top left',\n",
        "                 name='Parallelepiped Vertices'),\n",
        "    go.Scatter3d(x=[m0[0], m1[0], m1[0], m6[0], m6[0], m3[0], m3[0], m0[0], m0[0], m2[0], m4[0], m4[0], m7[0], m7[0], m5[0], m5[0], m2[0], m5[0], m3[0], m6[0], m7[0], m4[0], m1[0]],\n",
        "                 y=[m0[1], m1[1], m1[1], m6[1], m6[1], m3[1], m3[1], m0[1], m0[1], m2[1], m4[1], m4[1], m7[1], m7[1], m5[1], m5[1], m2[1], m5[1], m3[1], m6[1], m7[1], m4[1], m1[1]],\n",
        "                 z=[m0[2], m1[2], m1[2], m6[2], m6[2], m3[2], m3[2], m0[2], m0[2], m2[2], m4[2], m4[2], m7[2], m7[2], m5[2], m5[2], m2[2], m5[2], m3[2], m6[2], m7[2], m4[2], m1[2]],\n",
        "                 mode='lines',\n",
        "                 line=dict(color='black'),\n",
        "                 name='Edges')\n",
        "])\n",
        "\n",
        "fig.show()\n"
      ],
      "metadata": {
        "id": "3Ki7GCNT17y0",
        "colab": {
          "base_uri": "https://localhost:8080/",
          "height": 542
        },
        "outputId": "556e56b6-e73f-4a0a-c545-4cdf1590f153"
      },
      "execution_count": null,
      "outputs": [
        {
          "output_type": "display_data",
          "data": {
            "text/html": [
              "<html>\n",
              "<head><meta charset=\"utf-8\" /></head>\n",
              "<body>\n",
              "    <div>            <script src=\"https://cdnjs.cloudflare.com/ajax/libs/mathjax/2.7.5/MathJax.js?config=TeX-AMS-MML_SVG\"></script><script type=\"text/javascript\">if (window.MathJax && window.MathJax.Hub && window.MathJax.Hub.Config) {window.MathJax.Hub.Config({SVG: {font: \"STIX-Web\"}});}</script>                <script type=\"text/javascript\">window.PlotlyConfig = {MathJaxConfig: 'local'};</script>\n",
              "        <script charset=\"utf-8\" src=\"https://cdn.plot.ly/plotly-2.24.1.min.js\"></script>                <div id=\"447eab59-7bf3-4d6e-92c2-c8261c513a14\" class=\"plotly-graph-div\" style=\"height:525px; width:100%;\"></div>            <script type=\"text/javascript\">                                    window.PLOTLYENV=window.PLOTLYENV || {};                                    if (document.getElementById(\"447eab59-7bf3-4d6e-92c2-c8261c513a14\")) {                    Plotly.newPlot(                        \"447eab59-7bf3-4d6e-92c2-c8261c513a14\",                        [{\"marker\":{\"size\":6},\"mode\":\"markers+text\",\"name\":\"Parallelepiped Vertices\",\"text\":[\"m0\",\"m1\",\"m2\",\"m3\",\"m4\",\"m5\",\"m6\",\"m7\"],\"textposition\":\"top left\",\"x\":[0.0,1.0,0.0,0.5,1.0,0.5,1.5,1.5],\"y\":[0.0,0.3333333333333333,2.0,0.5,2.3333333333333335,2.5,0.8333333333333333,2.8333333333333335],\"z\":[0.0,0.0,0.25,1.0,0.25,1.25,1.0,1.25],\"type\":\"scatter3d\"},{\"line\":{\"color\":\"black\"},\"mode\":\"lines\",\"name\":\"Edges\",\"x\":[0,1.0,1.0,1.5,1.5,0.5,0.5,0,0,0.0,1.0,1.0,1.5,1.5,0.5,0.5,0.0,0.5,0.5,1.5,1.5,1.0,1.0],\"y\":[0,0.3333333333333333,0.3333333333333333,0.8333333333333333,0.8333333333333333,0.5,0.5,0,0,2.0,2.3333333333333335,2.3333333333333335,2.8333333333333335,2.8333333333333335,2.5,2.5,2.0,2.5,0.5,0.8333333333333333,2.8333333333333335,2.3333333333333335,0.3333333333333333],\"z\":[0,0.0,0.0,1.0,1.0,1.0,1.0,0,0,0.25,0.25,0.25,1.25,1.25,1.25,1.25,0.25,1.25,1.0,1.0,1.25,0.25,0.0],\"type\":\"scatter3d\"}],                        {\"template\":{\"data\":{\"histogram2dcontour\":[{\"type\":\"histogram2dcontour\",\"colorbar\":{\"outlinewidth\":0,\"ticks\":\"\"},\"colorscale\":[[0.0,\"#0d0887\"],[0.1111111111111111,\"#46039f\"],[0.2222222222222222,\"#7201a8\"],[0.3333333333333333,\"#9c179e\"],[0.4444444444444444,\"#bd3786\"],[0.5555555555555556,\"#d8576b\"],[0.6666666666666666,\"#ed7953\"],[0.7777777777777778,\"#fb9f3a\"],[0.8888888888888888,\"#fdca26\"],[1.0,\"#f0f921\"]]}],\"choropleth\":[{\"type\":\"choropleth\",\"colorbar\":{\"outlinewidth\":0,\"ticks\":\"\"}}],\"histogram2d\":[{\"type\":\"histogram2d\",\"colorbar\":{\"outlinewidth\":0,\"ticks\":\"\"},\"colorscale\":[[0.0,\"#0d0887\"],[0.1111111111111111,\"#46039f\"],[0.2222222222222222,\"#7201a8\"],[0.3333333333333333,\"#9c179e\"],[0.4444444444444444,\"#bd3786\"],[0.5555555555555556,\"#d8576b\"],[0.6666666666666666,\"#ed7953\"],[0.7777777777777778,\"#fb9f3a\"],[0.8888888888888888,\"#fdca26\"],[1.0,\"#f0f921\"]]}],\"heatmap\":[{\"type\":\"heatmap\",\"colorbar\":{\"outlinewidth\":0,\"ticks\":\"\"},\"colorscale\":[[0.0,\"#0d0887\"],[0.1111111111111111,\"#46039f\"],[0.2222222222222222,\"#7201a8\"],[0.3333333333333333,\"#9c179e\"],[0.4444444444444444,\"#bd3786\"],[0.5555555555555556,\"#d8576b\"],[0.6666666666666666,\"#ed7953\"],[0.7777777777777778,\"#fb9f3a\"],[0.8888888888888888,\"#fdca26\"],[1.0,\"#f0f921\"]]}],\"heatmapgl\":[{\"type\":\"heatmapgl\",\"colorbar\":{\"outlinewidth\":0,\"ticks\":\"\"},\"colorscale\":[[0.0,\"#0d0887\"],[0.1111111111111111,\"#46039f\"],[0.2222222222222222,\"#7201a8\"],[0.3333333333333333,\"#9c179e\"],[0.4444444444444444,\"#bd3786\"],[0.5555555555555556,\"#d8576b\"],[0.6666666666666666,\"#ed7953\"],[0.7777777777777778,\"#fb9f3a\"],[0.8888888888888888,\"#fdca26\"],[1.0,\"#f0f921\"]]}],\"contourcarpet\":[{\"type\":\"contourcarpet\",\"colorbar\":{\"outlinewidth\":0,\"ticks\":\"\"}}],\"contour\":[{\"type\":\"contour\",\"colorbar\":{\"outlinewidth\":0,\"ticks\":\"\"},\"colorscale\":[[0.0,\"#0d0887\"],[0.1111111111111111,\"#46039f\"],[0.2222222222222222,\"#7201a8\"],[0.3333333333333333,\"#9c179e\"],[0.4444444444444444,\"#bd3786\"],[0.5555555555555556,\"#d8576b\"],[0.6666666666666666,\"#ed7953\"],[0.7777777777777778,\"#fb9f3a\"],[0.8888888888888888,\"#fdca26\"],[1.0,\"#f0f921\"]]}],\"surface\":[{\"type\":\"surface\",\"colorbar\":{\"outlinewidth\":0,\"ticks\":\"\"},\"colorscale\":[[0.0,\"#0d0887\"],[0.1111111111111111,\"#46039f\"],[0.2222222222222222,\"#7201a8\"],[0.3333333333333333,\"#9c179e\"],[0.4444444444444444,\"#bd3786\"],[0.5555555555555556,\"#d8576b\"],[0.6666666666666666,\"#ed7953\"],[0.7777777777777778,\"#fb9f3a\"],[0.8888888888888888,\"#fdca26\"],[1.0,\"#f0f921\"]]}],\"mesh3d\":[{\"type\":\"mesh3d\",\"colorbar\":{\"outlinewidth\":0,\"ticks\":\"\"}}],\"scatter\":[{\"fillpattern\":{\"fillmode\":\"overlay\",\"size\":10,\"solidity\":0.2},\"type\":\"scatter\"}],\"parcoords\":[{\"type\":\"parcoords\",\"line\":{\"colorbar\":{\"outlinewidth\":0,\"ticks\":\"\"}}}],\"scatterpolargl\":[{\"type\":\"scatterpolargl\",\"marker\":{\"colorbar\":{\"outlinewidth\":0,\"ticks\":\"\"}}}],\"bar\":[{\"error_x\":{\"color\":\"#2a3f5f\"},\"error_y\":{\"color\":\"#2a3f5f\"},\"marker\":{\"line\":{\"color\":\"#E5ECF6\",\"width\":0.5},\"pattern\":{\"fillmode\":\"overlay\",\"size\":10,\"solidity\":0.2}},\"type\":\"bar\"}],\"scattergeo\":[{\"type\":\"scattergeo\",\"marker\":{\"colorbar\":{\"outlinewidth\":0,\"ticks\":\"\"}}}],\"scatterpolar\":[{\"type\":\"scatterpolar\",\"marker\":{\"colorbar\":{\"outlinewidth\":0,\"ticks\":\"\"}}}],\"histogram\":[{\"marker\":{\"pattern\":{\"fillmode\":\"overlay\",\"size\":10,\"solidity\":0.2}},\"type\":\"histogram\"}],\"scattergl\":[{\"type\":\"scattergl\",\"marker\":{\"colorbar\":{\"outlinewidth\":0,\"ticks\":\"\"}}}],\"scatter3d\":[{\"type\":\"scatter3d\",\"line\":{\"colorbar\":{\"outlinewidth\":0,\"ticks\":\"\"}},\"marker\":{\"colorbar\":{\"outlinewidth\":0,\"ticks\":\"\"}}}],\"scattermapbox\":[{\"type\":\"scattermapbox\",\"marker\":{\"colorbar\":{\"outlinewidth\":0,\"ticks\":\"\"}}}],\"scatterternary\":[{\"type\":\"scatterternary\",\"marker\":{\"colorbar\":{\"outlinewidth\":0,\"ticks\":\"\"}}}],\"scattercarpet\":[{\"type\":\"scattercarpet\",\"marker\":{\"colorbar\":{\"outlinewidth\":0,\"ticks\":\"\"}}}],\"carpet\":[{\"aaxis\":{\"endlinecolor\":\"#2a3f5f\",\"gridcolor\":\"white\",\"linecolor\":\"white\",\"minorgridcolor\":\"white\",\"startlinecolor\":\"#2a3f5f\"},\"baxis\":{\"endlinecolor\":\"#2a3f5f\",\"gridcolor\":\"white\",\"linecolor\":\"white\",\"minorgridcolor\":\"white\",\"startlinecolor\":\"#2a3f5f\"},\"type\":\"carpet\"}],\"table\":[{\"cells\":{\"fill\":{\"color\":\"#EBF0F8\"},\"line\":{\"color\":\"white\"}},\"header\":{\"fill\":{\"color\":\"#C8D4E3\"},\"line\":{\"color\":\"white\"}},\"type\":\"table\"}],\"barpolar\":[{\"marker\":{\"line\":{\"color\":\"#E5ECF6\",\"width\":0.5},\"pattern\":{\"fillmode\":\"overlay\",\"size\":10,\"solidity\":0.2}},\"type\":\"barpolar\"}],\"pie\":[{\"automargin\":true,\"type\":\"pie\"}]},\"layout\":{\"autotypenumbers\":\"strict\",\"colorway\":[\"#636efa\",\"#EF553B\",\"#00cc96\",\"#ab63fa\",\"#FFA15A\",\"#19d3f3\",\"#FF6692\",\"#B6E880\",\"#FF97FF\",\"#FECB52\"],\"font\":{\"color\":\"#2a3f5f\"},\"hovermode\":\"closest\",\"hoverlabel\":{\"align\":\"left\"},\"paper_bgcolor\":\"white\",\"plot_bgcolor\":\"#E5ECF6\",\"polar\":{\"bgcolor\":\"#E5ECF6\",\"angularaxis\":{\"gridcolor\":\"white\",\"linecolor\":\"white\",\"ticks\":\"\"},\"radialaxis\":{\"gridcolor\":\"white\",\"linecolor\":\"white\",\"ticks\":\"\"}},\"ternary\":{\"bgcolor\":\"#E5ECF6\",\"aaxis\":{\"gridcolor\":\"white\",\"linecolor\":\"white\",\"ticks\":\"\"},\"baxis\":{\"gridcolor\":\"white\",\"linecolor\":\"white\",\"ticks\":\"\"},\"caxis\":{\"gridcolor\":\"white\",\"linecolor\":\"white\",\"ticks\":\"\"}},\"coloraxis\":{\"colorbar\":{\"outlinewidth\":0,\"ticks\":\"\"}},\"colorscale\":{\"sequential\":[[0.0,\"#0d0887\"],[0.1111111111111111,\"#46039f\"],[0.2222222222222222,\"#7201a8\"],[0.3333333333333333,\"#9c179e\"],[0.4444444444444444,\"#bd3786\"],[0.5555555555555556,\"#d8576b\"],[0.6666666666666666,\"#ed7953\"],[0.7777777777777778,\"#fb9f3a\"],[0.8888888888888888,\"#fdca26\"],[1.0,\"#f0f921\"]],\"sequentialminus\":[[0.0,\"#0d0887\"],[0.1111111111111111,\"#46039f\"],[0.2222222222222222,\"#7201a8\"],[0.3333333333333333,\"#9c179e\"],[0.4444444444444444,\"#bd3786\"],[0.5555555555555556,\"#d8576b\"],[0.6666666666666666,\"#ed7953\"],[0.7777777777777778,\"#fb9f3a\"],[0.8888888888888888,\"#fdca26\"],[1.0,\"#f0f921\"]],\"diverging\":[[0,\"#8e0152\"],[0.1,\"#c51b7d\"],[0.2,\"#de77ae\"],[0.3,\"#f1b6da\"],[0.4,\"#fde0ef\"],[0.5,\"#f7f7f7\"],[0.6,\"#e6f5d0\"],[0.7,\"#b8e186\"],[0.8,\"#7fbc41\"],[0.9,\"#4d9221\"],[1,\"#276419\"]]},\"xaxis\":{\"gridcolor\":\"white\",\"linecolor\":\"white\",\"ticks\":\"\",\"title\":{\"standoff\":15},\"zerolinecolor\":\"white\",\"automargin\":true,\"zerolinewidth\":2},\"yaxis\":{\"gridcolor\":\"white\",\"linecolor\":\"white\",\"ticks\":\"\",\"title\":{\"standoff\":15},\"zerolinecolor\":\"white\",\"automargin\":true,\"zerolinewidth\":2},\"scene\":{\"xaxis\":{\"backgroundcolor\":\"#E5ECF6\",\"gridcolor\":\"white\",\"linecolor\":\"white\",\"showbackground\":true,\"ticks\":\"\",\"zerolinecolor\":\"white\",\"gridwidth\":2},\"yaxis\":{\"backgroundcolor\":\"#E5ECF6\",\"gridcolor\":\"white\",\"linecolor\":\"white\",\"showbackground\":true,\"ticks\":\"\",\"zerolinecolor\":\"white\",\"gridwidth\":2},\"zaxis\":{\"backgroundcolor\":\"#E5ECF6\",\"gridcolor\":\"white\",\"linecolor\":\"white\",\"showbackground\":true,\"ticks\":\"\",\"zerolinecolor\":\"white\",\"gridwidth\":2}},\"shapedefaults\":{\"line\":{\"color\":\"#2a3f5f\"}},\"annotationdefaults\":{\"arrowcolor\":\"#2a3f5f\",\"arrowhead\":0,\"arrowwidth\":1},\"geo\":{\"bgcolor\":\"white\",\"landcolor\":\"#E5ECF6\",\"subunitcolor\":\"white\",\"showland\":true,\"showlakes\":true,\"lakecolor\":\"white\"},\"title\":{\"x\":0.05},\"mapbox\":{\"style\":\"light\"}}}},                        {\"responsive\": true}                    ).then(function(){\n",
              "                            \n",
              "var gd = document.getElementById('447eab59-7bf3-4d6e-92c2-c8261c513a14');\n",
              "var x = new MutationObserver(function (mutations, observer) {{\n",
              "        var display = window.getComputedStyle(gd).display;\n",
              "        if (!display || display === 'none') {{\n",
              "            console.log([gd, 'removed!']);\n",
              "            Plotly.purge(gd);\n",
              "            observer.disconnect();\n",
              "        }}\n",
              "}});\n",
              "\n",
              "// Listen for the removal of the full notebook cells\n",
              "var notebookContainer = gd.closest('#notebook-container');\n",
              "if (notebookContainer) {{\n",
              "    x.observe(notebookContainer, {childList: true});\n",
              "}}\n",
              "\n",
              "// Listen for the clearing of the current output cell\n",
              "var outputEl = gd.closest('.output');\n",
              "if (outputEl) {{\n",
              "    x.observe(outputEl, {childList: true});\n",
              "}}\n",
              "\n",
              "                        })                };                            </script>        </div>\n",
              "</body>\n",
              "</html>"
            ]
          },
          "metadata": {}
        }
      ]
    }
  ]
}